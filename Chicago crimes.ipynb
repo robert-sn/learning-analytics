{
  "nbformat": 4,
  "nbformat_minor": 0,
  "metadata": {
    "colab": {
      "cell_execution_strategy": "setup",
      "provenance": [],
      "name": "Chicago crimes"
    },
    "kernelspec": {
      "name": "python3",
      "display_name": "Python 3"
    },
    "language_info": {
      "name": "python"
    }
  },
  "cells": [
    {
      "cell_type": "code",
      "source": [
        "from google.cloud import bigquery\n",
        "from pyspark.sql import SparkSession\n",
        "\n",
        "\n",
        "client = bigquery.Client()\n",
        "spark = SparkSession.builder.appName(\"Chicago Crimes\").getOrCreate()\n",
        "\n",
        "query = \"\"\"\n",
        "SELECT date, primary_type, arrest,domestic, district, year, description, iucr, location_description\n",
        "FROM `bigquery-public-data.chicago_crime.crime`\n",
        "\"\"\"\n",
        "\n",
        "df = client.query(query).to_dataframe()\n",
        "spark_df = spark.createDataFrame(df)\n",
        "spark_df.show(10)"
      ],
      "metadata": {
        "id": "p2NN8wwF7YRa",
        "colab": {
          "base_uri": "https://localhost:8080/"
        },
        "outputId": "226529b4-cfef-440e-f47d-e94ece93865d",
        "executionInfo": {
          "status": "ok",
          "timestamp": 1752075953716,
          "user_tz": -180,
          "elapsed": 430942,
          "user": {
            "displayName": "",
            "userId": ""
          }
        }
      },
      "execution_count": null,
      "outputs": [
        {
          "output_type": "stream",
          "name": "stdout",
          "text": [
            "+-------------------+-------------------+------+--------+--------+----+--------------------+----+--------------------+\n",
            "|               date|       primary_type|arrest|domestic|district|year|         description|iucr|location_description|\n",
            "+-------------------+-------------------+------+--------+--------+----+--------------------+----+--------------------+\n",
            "|2005-03-18 22:00:00|CRIM SEXUAL ASSAULT| false|   false|     1.0|2005|      NON-AGGRAVATED|0281|           APARTMENT|\n",
            "|2006-07-21 12:04:00| DECEPTIVE PRACTICE|  true|   false|     1.0|2006|             FORGERY|1120|                BANK|\n",
            "|2010-12-17 10:00:00| DECEPTIVE PRACTICE| false|   false|     1.0|2010|   COUNTERFEIT CHECK|1122|           RESIDENCE|\n",
            "|2016-07-28 09:23:00| DECEPTIVE PRACTICE| false|   false|     1.0|2016|ILLEGAL USE CASH ...|1152|ATM (AUTOMATIC TE...|\n",
            "|2008-05-23 17:35:00| DECEPTIVE PRACTICE| false|   false|     1.0|2008|ILLEGAL USE CASH ...|1152|           RESIDENCE|\n",
            "|2001-12-08 03:00:00| DECEPTIVE PRACTICE| false|   false|     1.0|2001|THEFT OF LOST/MIS...|1220|               OTHER|\n",
            "|2015-12-12 14:00:00|      OTHER OFFENSE| false|   false|     1.0|2015|OTHER ARSON/EXPLO...|5003|              STREET|\n",
            "|2001-10-16 11:00:00|            ASSAULT| false|   false|     1.0|2001|AGGRAVATED: OTHER...|0530|              STREET|\n",
            "|2016-04-07 11:10:00|              THEFT| false|   false|     1.0|2016|       ATTEMPT THEFT|0850|          RESTAURANT|\n",
            "|2009-05-23 08:46:00|      OTHER OFFENSE| false|   false|     1.0|2009|HARASSMENT BY ELE...|2826|SCHOOL, PRIVATE, ...|\n",
            "+-------------------+-------------------+------+--------+--------+----+--------------------+----+--------------------+\n",
            "only showing top 10 rows\n",
            "\n"
          ]
        }
      ]
    }
  ]
}